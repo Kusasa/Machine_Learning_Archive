{
 "cells": [
  {
   "cell_type": "markdown",
   "metadata": {
    "colab_type": "text",
    "id": "jcwLKuQXCLkA"
   },
   "source": [
    "# Akeed Restaurant Recommendation Challenge"
   ]
  },
  {
   "cell_type": "markdown",
   "metadata": {
    "colab_type": "text",
    "id": "IX4DwGh_MMGr"
   },
   "source": [
    "## Importing libraries:"
   ]
  },
  {
   "cell_type": "code",
   "execution_count": null,
   "metadata": {
    "colab": {},
    "colab_type": "code",
    "id": "7yysxbPuCT8A"
   },
   "outputs": [],
   "source": [
    "import pandas as pd\n",
    "import numpy as np\n",
    "from matplotlib import pyplot as plt\n",
    "import psycopg2\n",
    "import geopandas as gpd\n",
    "from shapely import wkt\n",
    "from sklearn.preprocessing import LabelBinarizer\n",
    "from sklearn.preprocessing import StandardScaler"
   ]
  },
  {
   "cell_type": "markdown",
   "metadata": {},
   "source": [
    "## Inspecting the base layers:"
   ]
  },
  {
   "cell_type": "markdown",
   "metadata": {},
   "source": [
    "### Base Layer 1"
   ]
  },
  {
   "cell_type": "code",
   "execution_count": null,
   "metadata": {
    "colab": {},
    "colab_type": "code",
    "id": "ytBzPY1hBu9t"
   },
   "outputs": [],
   "source": [
    "#Training Locations\n",
    "training_locations = pd.read_csv(\"./train_locations.csv\")\n",
    "print(\"\\n This table has \" + str(len(training_locations)) + \" rows.\")\n",
    "training_locations.head()\n",
    "#training_locations.isnull().sum()"
   ]
  },
  {
   "cell_type": "markdown",
   "metadata": {},
   "source": [
    "### Base Layer 2"
   ]
  },
  {
   "cell_type": "code",
   "execution_count": null,
   "metadata": {},
   "outputs": [],
   "source": [
    "#Training Customers\n",
    "training_customers = pd.read_csv(\"./train_customers.csv\")\n",
    "print(\"\\n This table has \" + str(len(training_customers)) + \" rows.\")\n",
    "training_customers.head()\n",
    "#training_customers.isnull().sum()"
   ]
  },
  {
   "cell_type": "markdown",
   "metadata": {
    "colab_type": "text",
    "id": "ufe3SE81CVZB"
   },
   "source": [
    "### Base Layer 3"
   ]
  },
  {
   "cell_type": "code",
   "execution_count": null,
   "metadata": {},
   "outputs": [],
   "source": [
    "#Orders\n",
    "orders = pd.read_csv(\"./orders.csv\")\n",
    "print(\"\\n This table has \" + str(len(orders)) + \" rows.\")\n",
    "orders.head()\n",
    "#orders.isnull().sum()"
   ]
  },
  {
   "cell_type": "markdown",
   "metadata": {},
   "source": [
    "### Base Layer 4"
   ]
  },
  {
   "cell_type": "code",
   "execution_count": null,
   "metadata": {},
   "outputs": [],
   "source": [
    "#Vendors\n",
    "vendors = pd.read_csv(\"./vendors.csv\")\n",
    "print(\"\\n This table has \" + str(len(vendors)) + \" rows.\")\n",
    "vendors.head()\n",
    "#vendors.isnull().sum()"
   ]
  },
  {
   "cell_type": "markdown",
   "metadata": {},
   "source": [
    "## Pre-process tables where need be"
   ]
  },
  {
   "cell_type": "markdown",
   "metadata": {},
   "source": [
    "### Deal with null values"
   ]
  },
  {
   "cell_type": "code",
   "execution_count": null,
   "metadata": {},
   "outputs": [],
   "source": [
    "#Training Locations\n",
    "training_locations = training_locations.fillna(value=\"unknown\")\n",
    "training_locations.head()"
   ]
  },
  {
   "cell_type": "code",
   "execution_count": null,
   "metadata": {},
   "outputs": [],
   "source": [
    "#Training Customers\n",
    "training_customers = training_customers.fillna(value=\"unknown\")\n",
    "training_customers.head()"
   ]
  },
  {
   "cell_type": "code",
   "execution_count": null,
   "metadata": {},
   "outputs": [],
   "source": [
    "#Orders\n",
    "orders = orders.fillna(value=\"unknown\")\n",
    "orders.head()"
   ]
  },
  {
   "cell_type": "code",
   "execution_count": null,
   "metadata": {},
   "outputs": [],
   "source": [
    "#Vendors\n",
    "vendors = vendors.fillna(value=\"unknown\")\n",
    "vendors.head()"
   ]
  },
  {
   "cell_type": "markdown",
   "metadata": {},
   "source": [
    "### Deal with mixed data-type fields"
   ]
  },
  {
   "cell_type": "code",
   "execution_count": null,
   "metadata": {},
   "outputs": [],
   "source": [
    "#find mixed data type columns\n",
    "for col in orders.columns:\n",
    "    weird = (orders[[col]].applymap(type) != orders[[col]].iloc[0].apply(type)).any(axis=1)\n",
    "    if len(orders[weird]) > 0:\n",
    "        print(col)"
   ]
  },
  {
   "cell_type": "code",
   "execution_count": null,
   "metadata": {},
   "outputs": [],
   "source": [
    "#find mixed data type cells\n",
    "weird = (orders.applymap(type) != orders.iloc[0].apply(type)).any(axis=1)\n",
    "orders[weird].isin([1]).sum()\n",
    "'''Find and replace cell types'''"
   ]
  },
  {
   "cell_type": "markdown",
   "metadata": {},
   "source": [
    "### Encode nominal fields"
   ]
  },
  {
   "cell_type": "code",
   "execution_count": null,
   "metadata": {},
   "outputs": [],
   "source": [
    "#Location Type column in Training Locations\n",
    "training_locations.groupby(['location_type']).first()\n",
    "dummy = pd.get_dummies(training_locations['location_type'])\n",
    "encoded_training_locations = training_locations.merge(dummy, left_index=True, right_index=True)\n",
    "encoded_training_locations.head()"
   ]
  },
  {
   "cell_type": "code",
   "execution_count": null,
   "metadata": {},
   "outputs": [],
   "source": [
    "#Gender column in Training Customers\n",
    "training_customers.groupby(['gender']).first()\n",
    "training_customers['gender'] = training_customers['gender'].str.upper()\n",
    "dummy = pd.get_dummies(training_customers['gender'])\n",
    "encoded_training_customers = training_customers.merge(dummy, left_index=True, right_index=True)\n",
    "encoded_training_customers.head(50)\n",
    "encoded_training_customers.columns\n",
    "'''remove spaces from gender column values'''"
   ]
  },
  {
   "cell_type": "markdown",
   "metadata": {},
   "source": [
    "### Add valuable calculated fields"
   ]
  },
  {
   "cell_type": "code",
   "execution_count": null,
   "metadata": {},
   "outputs": [],
   "source": [
    "#Add geometry field to the training locations table\n",
    "encoded_training_locations['geom']=\"\"\n",
    "row_no = 0\n",
    "for row in encoded_training_locations.iterrows():\n",
    "    encoded_training_locations.loc[row_no, 'geom'] = ['POINT(' + str(row[1]['longitude']) + ' ' + str(row[1]['latitude']) + ')']\n",
    "    row_no += 1\n",
    "encoded_training_locations['geom'] = encoded_training_locations['geom'].apply(wkt.loads)\n",
    "encoded_training_locations_gdf = gpd.GeoDataFrame(encoded_training_locations, geometry='geom', crs='epsg:4326')"
   ]
  },
  {
   "cell_type": "code",
   "execution_count": null,
   "metadata": {},
   "outputs": [],
   "source": [
    "#Add geometry field to the vendors table\n"
   ]
  },
  {
   "cell_type": "markdown",
   "metadata": {},
   "source": [
    "### Feature Scale field values if need be"
   ]
  },
  {
   "cell_type": "code",
   "execution_count": null,
   "metadata": {},
   "outputs": [],
   "source": [
    "#sc = StandardScaler()\n",
    "#X = sc.fit_transform(X)"
   ]
  },
  {
   "cell_type": "markdown",
   "metadata": {
    "colab_type": "text",
    "id": "IFVqP4NhCaFK"
   },
   "source": [
    "## Exploring Relationships using plots"
   ]
  },
  {
   "cell_type": "markdown",
   "metadata": {},
   "source": [
    "### Exploration 1"
   ]
  },
  {
   "cell_type": "code",
   "execution_count": null,
   "metadata": {
    "colab": {
     "base_uri": "https://localhost:8080/",
     "height": 442
    },
    "colab_type": "code",
    "id": "A4pNfzNhCKlc",
    "outputId": "06f57e4d-db5f-4df3-80ee-c79d6d0d5e9e"
   },
   "outputs": [],
   "source": [
    "#Spatial Relations\n",
    "\n",
    "ax = encoded_training_locations_gdf.plot(edgecolor = 'grey', facecolor = 'none', figsize = (18, 12), legend=True)\n",
    "#roads.plot(ax=ax, color = 'purple')\n",
    "#ax.set(xlim=(15, 35), ylim=(-37.5, -20))\n",
    "ax.set_axis_off()\n",
    "plt.title(label = 'Training Locations', fontweight = 'bold')\n",
    "plt.tight_layout()"
   ]
  },
  {
   "cell_type": "markdown",
   "metadata": {},
   "source": [
    "### Exploration 2"
   ]
  },
  {
   "cell_type": "code",
   "execution_count": null,
   "metadata": {
    "colab_type": "text",
    "id": "nsxVbZ6rDoZu"
   },
   "outputs": [],
   "source": [
    "# Linear Relations\n",
    "\n"
   ]
  },
  {
   "cell_type": "markdown",
   "metadata": {
    "colab_type": "text",
    "id": "XsEWyt7_KGW0"
   },
   "source": [
    "## Prediction Modelling"
   ]
  },
  {
   "cell_type": "code",
   "execution_count": null,
   "metadata": {
    "colab": {},
    "colab_type": "code",
    "id": "baggxvxMLmC_"
   },
   "outputs": [],
   "source": []
  }
 ],
 "metadata": {
  "colab": {
   "collapsed_sections": [],
   "name": "Game Count Starter Notebook.ipynb",
   "provenance": []
  },
  "kernelspec": {
   "display_name": "Python 3",
   "language": "python",
   "name": "python3"
  },
  "language_info": {
   "codemirror_mode": {
    "name": "ipython",
    "version": 3
   },
   "file_extension": ".py",
   "mimetype": "text/x-python",
   "name": "python",
   "nbconvert_exporter": "python",
   "pygments_lexer": "ipython3",
   "version": "3.7.6"
  }
 },
 "nbformat": 4,
 "nbformat_minor": 1
}
