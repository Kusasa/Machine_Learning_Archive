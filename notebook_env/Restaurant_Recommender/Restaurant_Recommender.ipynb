{
 "cells": [
  {
   "cell_type": "markdown",
   "metadata": {
    "colab_type": "text",
    "id": "jcwLKuQXCLkA"
   },
   "source": [
    "# Akeed Restaurant Recommendation Challenge"
   ]
  },
  {
   "cell_type": "markdown",
   "metadata": {
    "colab_type": "text",
    "id": "IX4DwGh_MMGr"
   },
   "source": [
    "## Importing libraries:"
   ]
  },
  {
   "cell_type": "code",
   "execution_count": 1,
   "metadata": {
    "colab": {},
    "colab_type": "code",
    "id": "7yysxbPuCT8A"
   },
   "outputs": [],
   "source": [
    "import pandas as pd\n",
    "import numpy as np\n",
    "from matplotlib import pyplot as plt\n",
    "import psycopg2\n",
    "import geopandas as gpd\n",
    "from shapely import wkt"
   ]
  },
  {
   "cell_type": "markdown",
   "metadata": {},
   "source": [
    "## Inspecting the base layers:"
   ]
  },
  {
   "cell_type": "markdown",
   "metadata": {},
   "source": [
    "### Base Layer 1"
   ]
  },
  {
   "cell_type": "code",
   "execution_count": 52,
   "metadata": {
    "colab": {},
    "colab_type": "code",
    "id": "ytBzPY1hBu9t"
   },
   "outputs": [
    {
     "name": "stdout",
     "output_type": "stream",
     "text": [
      "\n",
      " This table has 59503 rows.\n"
     ]
    },
    {
     "data": {
      "text/html": [
       "<div>\n",
       "<style scoped>\n",
       "    .dataframe tbody tr th:only-of-type {\n",
       "        vertical-align: middle;\n",
       "    }\n",
       "\n",
       "    .dataframe tbody tr th {\n",
       "        vertical-align: top;\n",
       "    }\n",
       "\n",
       "    .dataframe thead th {\n",
       "        text-align: right;\n",
       "    }\n",
       "</style>\n",
       "<table border=\"1\" class=\"dataframe\">\n",
       "  <thead>\n",
       "    <tr style=\"text-align: right;\">\n",
       "      <th></th>\n",
       "      <th>customer_id</th>\n",
       "      <th>location_number</th>\n",
       "      <th>location_type</th>\n",
       "      <th>latitude</th>\n",
       "      <th>longitude</th>\n",
       "    </tr>\n",
       "  </thead>\n",
       "  <tbody>\n",
       "    <tr>\n",
       "      <th>0</th>\n",
       "      <td>02SFNJH</td>\n",
       "      <td>0</td>\n",
       "      <td>NaN</td>\n",
       "      <td>1.682392</td>\n",
       "      <td>-78.789737</td>\n",
       "    </tr>\n",
       "    <tr>\n",
       "      <th>1</th>\n",
       "      <td>02SFNJH</td>\n",
       "      <td>1</td>\n",
       "      <td>NaN</td>\n",
       "      <td>1.679137</td>\n",
       "      <td>0.766823</td>\n",
       "    </tr>\n",
       "    <tr>\n",
       "      <th>2</th>\n",
       "      <td>02SFNJH</td>\n",
       "      <td>2</td>\n",
       "      <td>NaN</td>\n",
       "      <td>-0.498648</td>\n",
       "      <td>0.661241</td>\n",
       "    </tr>\n",
       "    <tr>\n",
       "      <th>3</th>\n",
       "      <td>RU43CXC</td>\n",
       "      <td>0</td>\n",
       "      <td>Home</td>\n",
       "      <td>0.100853</td>\n",
       "      <td>0.438165</td>\n",
       "    </tr>\n",
       "    <tr>\n",
       "      <th>4</th>\n",
       "      <td>BDFBPRD</td>\n",
       "      <td>0</td>\n",
       "      <td>NaN</td>\n",
       "      <td>2.523125</td>\n",
       "      <td>0.733464</td>\n",
       "    </tr>\n",
       "  </tbody>\n",
       "</table>\n",
       "</div>"
      ],
      "text/plain": [
       "  customer_id  location_number location_type  latitude  longitude\n",
       "0     02SFNJH                0           NaN  1.682392 -78.789737\n",
       "1     02SFNJH                1           NaN  1.679137   0.766823\n",
       "2     02SFNJH                2           NaN -0.498648   0.661241\n",
       "3     RU43CXC                0          Home  0.100853   0.438165\n",
       "4     BDFBPRD                0           NaN  2.523125   0.733464"
      ]
     },
     "execution_count": 52,
     "metadata": {},
     "output_type": "execute_result"
    }
   ],
   "source": [
    "#Training Locations\n",
    "training_locations = pd.read_csv(\"./train_locations.csv\")\n",
    "print(\"\\n This table has \" + str(len(training_locations)) + \" rows.\")\n",
    "training_locations.head()\n",
    "#training_locations.isnull().sum()"
   ]
  },
  {
   "cell_type": "markdown",
   "metadata": {},
   "source": [
    "### Base Layer 2"
   ]
  },
  {
   "cell_type": "code",
   "execution_count": 74,
   "metadata": {},
   "outputs": [
    {
     "name": "stdout",
     "output_type": "stream",
     "text": [
      "\n",
      " This table has 34674 rows.\n"
     ]
    },
    {
     "data": {
      "text/html": [
       "<div>\n",
       "<style scoped>\n",
       "    .dataframe tbody tr th:only-of-type {\n",
       "        vertical-align: middle;\n",
       "    }\n",
       "\n",
       "    .dataframe tbody tr th {\n",
       "        vertical-align: top;\n",
       "    }\n",
       "\n",
       "    .dataframe thead th {\n",
       "        text-align: right;\n",
       "    }\n",
       "</style>\n",
       "<table border=\"1\" class=\"dataframe\">\n",
       "  <thead>\n",
       "    <tr style=\"text-align: right;\">\n",
       "      <th></th>\n",
       "      <th>akeed_customer_id</th>\n",
       "      <th>gender</th>\n",
       "      <th>dob</th>\n",
       "      <th>status</th>\n",
       "      <th>verified</th>\n",
       "      <th>language</th>\n",
       "      <th>created_at</th>\n",
       "      <th>updated_at</th>\n",
       "    </tr>\n",
       "  </thead>\n",
       "  <tbody>\n",
       "    <tr>\n",
       "      <th>0</th>\n",
       "      <td>TCHWPBT</td>\n",
       "      <td>Male</td>\n",
       "      <td>NaN</td>\n",
       "      <td>1</td>\n",
       "      <td>1</td>\n",
       "      <td>EN</td>\n",
       "      <td>2018-02-07 19:16:23</td>\n",
       "      <td>2018-02-07 19:16:23</td>\n",
       "    </tr>\n",
       "    <tr>\n",
       "      <th>1</th>\n",
       "      <td>ZGFSYCZ</td>\n",
       "      <td>Male</td>\n",
       "      <td>NaN</td>\n",
       "      <td>1</td>\n",
       "      <td>1</td>\n",
       "      <td>EN</td>\n",
       "      <td>2018-02-09 12:04:42</td>\n",
       "      <td>2018-02-09 12:04:41</td>\n",
       "    </tr>\n",
       "    <tr>\n",
       "      <th>2</th>\n",
       "      <td>S2ALZFL</td>\n",
       "      <td>Male</td>\n",
       "      <td>NaN</td>\n",
       "      <td>0</td>\n",
       "      <td>1</td>\n",
       "      <td>EN</td>\n",
       "      <td>2018-03-14 18:31:43</td>\n",
       "      <td>2018-03-14 18:31:42</td>\n",
       "    </tr>\n",
       "    <tr>\n",
       "      <th>3</th>\n",
       "      <td>952DBJQ</td>\n",
       "      <td>Male</td>\n",
       "      <td>NaN</td>\n",
       "      <td>1</td>\n",
       "      <td>1</td>\n",
       "      <td>EN</td>\n",
       "      <td>2018-03-15 19:47:07</td>\n",
       "      <td>2018-03-15 19:47:07</td>\n",
       "    </tr>\n",
       "    <tr>\n",
       "      <th>4</th>\n",
       "      <td>1IX6FXS</td>\n",
       "      <td>Male</td>\n",
       "      <td>NaN</td>\n",
       "      <td>1</td>\n",
       "      <td>1</td>\n",
       "      <td>EN</td>\n",
       "      <td>2018-03-15 19:57:01</td>\n",
       "      <td>2018-03-15 19:57:01</td>\n",
       "    </tr>\n",
       "  </tbody>\n",
       "</table>\n",
       "</div>"
      ],
      "text/plain": [
       "  akeed_customer_id gender  dob  status  verified language  \\\n",
       "0           TCHWPBT   Male  NaN       1         1       EN   \n",
       "1           ZGFSYCZ   Male  NaN       1         1       EN   \n",
       "2           S2ALZFL   Male  NaN       0         1       EN   \n",
       "3           952DBJQ   Male  NaN       1         1       EN   \n",
       "4           1IX6FXS   Male  NaN       1         1       EN   \n",
       "\n",
       "            created_at           updated_at  \n",
       "0  2018-02-07 19:16:23  2018-02-07 19:16:23  \n",
       "1  2018-02-09 12:04:42  2018-02-09 12:04:41  \n",
       "2  2018-03-14 18:31:43  2018-03-14 18:31:42  \n",
       "3  2018-03-15 19:47:07  2018-03-15 19:47:07  \n",
       "4  2018-03-15 19:57:01  2018-03-15 19:57:01  "
      ]
     },
     "execution_count": 74,
     "metadata": {},
     "output_type": "execute_result"
    }
   ],
   "source": [
    "#Training Customers\n",
    "training_customers = pd.read_csv(\"./train_customers.csv\")\n",
    "print(\"\\n This table has \" + str(len(training_customers)) + \" rows.\")\n",
    "training_customers.head()\n",
    "#training_customers.isnull().sum()"
   ]
  },
  {
   "cell_type": "markdown",
   "metadata": {
    "colab_type": "text",
    "id": "ufe3SE81CVZB"
   },
   "source": [
    "### Base Layer 3"
   ]
  },
  {
   "cell_type": "code",
   "execution_count": 73,
   "metadata": {},
   "outputs": [
    {
     "name": "stdout",
     "output_type": "stream",
     "text": [
      "\n",
      " This table has 135303 rows.\n"
     ]
    },
    {
     "name": "stderr",
     "output_type": "stream",
     "text": [
      "/home/kusasa/anaconda3/lib/python3.7/site-packages/IPython/core/interactiveshell.py:3063: DtypeWarning: Columns (15,16,18,19,20) have mixed types.Specify dtype option on import or set low_memory=False.\n",
      "  interactivity=interactivity, compiler=compiler, result=result)\n"
     ]
    },
    {
     "data": {
      "text/html": [
       "<div>\n",
       "<style scoped>\n",
       "    .dataframe tbody tr th:only-of-type {\n",
       "        vertical-align: middle;\n",
       "    }\n",
       "\n",
       "    .dataframe tbody tr th {\n",
       "        vertical-align: top;\n",
       "    }\n",
       "\n",
       "    .dataframe thead th {\n",
       "        text-align: right;\n",
       "    }\n",
       "</style>\n",
       "<table border=\"1\" class=\"dataframe\">\n",
       "  <thead>\n",
       "    <tr style=\"text-align: right;\">\n",
       "      <th></th>\n",
       "      <th>akeed_order_id</th>\n",
       "      <th>customer_id</th>\n",
       "      <th>item_count</th>\n",
       "      <th>grand_total</th>\n",
       "      <th>payment_mode</th>\n",
       "      <th>promo_code</th>\n",
       "      <th>vendor_discount_amount</th>\n",
       "      <th>promo_code_discount_percentage</th>\n",
       "      <th>is_favorite</th>\n",
       "      <th>is_rated</th>\n",
       "      <th>...</th>\n",
       "      <th>driver_accepted_time</th>\n",
       "      <th>ready_for_pickup_time</th>\n",
       "      <th>picked_up_time</th>\n",
       "      <th>delivered_time</th>\n",
       "      <th>delivery_date</th>\n",
       "      <th>vendor_id</th>\n",
       "      <th>created_at</th>\n",
       "      <th>LOCATION_NUMBER</th>\n",
       "      <th>LOCATION_TYPE</th>\n",
       "      <th>CID X LOC_NUM X VENDOR</th>\n",
       "    </tr>\n",
       "  </thead>\n",
       "  <tbody>\n",
       "    <tr>\n",
       "      <th>0</th>\n",
       "      <td>163238.0</td>\n",
       "      <td>92PEE24</td>\n",
       "      <td>1.0</td>\n",
       "      <td>7.6</td>\n",
       "      <td>2</td>\n",
       "      <td>NaN</td>\n",
       "      <td>0.0</td>\n",
       "      <td>NaN</td>\n",
       "      <td>NaN</td>\n",
       "      <td>No</td>\n",
       "      <td>...</td>\n",
       "      <td>NaN</td>\n",
       "      <td>NaN</td>\n",
       "      <td>NaN</td>\n",
       "      <td>NaN</td>\n",
       "      <td>2019-07-31 05:30:00</td>\n",
       "      <td>105</td>\n",
       "      <td>2019-08-01 05:30:16</td>\n",
       "      <td>0</td>\n",
       "      <td>NaN</td>\n",
       "      <td>92PEE24 X 0 X 105</td>\n",
       "    </tr>\n",
       "    <tr>\n",
       "      <th>1</th>\n",
       "      <td>163240.0</td>\n",
       "      <td>QS68UD8</td>\n",
       "      <td>1.0</td>\n",
       "      <td>8.7</td>\n",
       "      <td>1</td>\n",
       "      <td>NaN</td>\n",
       "      <td>0.0</td>\n",
       "      <td>NaN</td>\n",
       "      <td>NaN</td>\n",
       "      <td>No</td>\n",
       "      <td>...</td>\n",
       "      <td>NaN</td>\n",
       "      <td>NaN</td>\n",
       "      <td>NaN</td>\n",
       "      <td>NaN</td>\n",
       "      <td>2019-07-31 05:30:00</td>\n",
       "      <td>294</td>\n",
       "      <td>2019-08-01 05:31:10</td>\n",
       "      <td>0</td>\n",
       "      <td>Work</td>\n",
       "      <td>QS68UD8 X 0 X 294</td>\n",
       "    </tr>\n",
       "    <tr>\n",
       "      <th>2</th>\n",
       "      <td>163241.0</td>\n",
       "      <td>MB7VY5F</td>\n",
       "      <td>2.0</td>\n",
       "      <td>14.4</td>\n",
       "      <td>1</td>\n",
       "      <td>NaN</td>\n",
       "      <td>0.0</td>\n",
       "      <td>NaN</td>\n",
       "      <td>NaN</td>\n",
       "      <td>No</td>\n",
       "      <td>...</td>\n",
       "      <td>NaN</td>\n",
       "      <td>NaN</td>\n",
       "      <td>NaN</td>\n",
       "      <td>NaN</td>\n",
       "      <td>2019-07-31 05:30:00</td>\n",
       "      <td>83</td>\n",
       "      <td>2019-08-01 05:31:33</td>\n",
       "      <td>0</td>\n",
       "      <td>NaN</td>\n",
       "      <td>MB7VY5F X 0 X 83</td>\n",
       "    </tr>\n",
       "    <tr>\n",
       "      <th>3</th>\n",
       "      <td>163244.0</td>\n",
       "      <td>KDJ951Y</td>\n",
       "      <td>1.0</td>\n",
       "      <td>7.1</td>\n",
       "      <td>1</td>\n",
       "      <td>NaN</td>\n",
       "      <td>0.0</td>\n",
       "      <td>NaN</td>\n",
       "      <td>NaN</td>\n",
       "      <td>No</td>\n",
       "      <td>...</td>\n",
       "      <td>NaN</td>\n",
       "      <td>NaN</td>\n",
       "      <td>NaN</td>\n",
       "      <td>NaN</td>\n",
       "      <td>2019-07-31 05:30:00</td>\n",
       "      <td>90</td>\n",
       "      <td>2019-08-01 05:34:54</td>\n",
       "      <td>0</td>\n",
       "      <td>Home</td>\n",
       "      <td>KDJ951Y X 0 X 90</td>\n",
       "    </tr>\n",
       "    <tr>\n",
       "      <th>4</th>\n",
       "      <td>163245.0</td>\n",
       "      <td>BAL0RVT</td>\n",
       "      <td>4.0</td>\n",
       "      <td>27.2</td>\n",
       "      <td>1</td>\n",
       "      <td>NaN</td>\n",
       "      <td>0.0</td>\n",
       "      <td>NaN</td>\n",
       "      <td>NaN</td>\n",
       "      <td>No</td>\n",
       "      <td>...</td>\n",
       "      <td>NaN</td>\n",
       "      <td>NaN</td>\n",
       "      <td>NaN</td>\n",
       "      <td>NaN</td>\n",
       "      <td>2019-07-31 05:30:00</td>\n",
       "      <td>83</td>\n",
       "      <td>2019-08-01 05:35:51</td>\n",
       "      <td>0</td>\n",
       "      <td>Work</td>\n",
       "      <td>BAL0RVT X 0 X 83</td>\n",
       "    </tr>\n",
       "  </tbody>\n",
       "</table>\n",
       "<p>5 rows × 26 columns</p>\n",
       "</div>"
      ],
      "text/plain": [
       "   akeed_order_id customer_id  item_count  grand_total  payment_mode  \\\n",
       "0        163238.0     92PEE24         1.0          7.6             2   \n",
       "1        163240.0     QS68UD8         1.0          8.7             1   \n",
       "2        163241.0     MB7VY5F         2.0         14.4             1   \n",
       "3        163244.0     KDJ951Y         1.0          7.1             1   \n",
       "4        163245.0     BAL0RVT         4.0         27.2             1   \n",
       "\n",
       "  promo_code  vendor_discount_amount  promo_code_discount_percentage  \\\n",
       "0        NaN                     0.0                             NaN   \n",
       "1        NaN                     0.0                             NaN   \n",
       "2        NaN                     0.0                             NaN   \n",
       "3        NaN                     0.0                             NaN   \n",
       "4        NaN                     0.0                             NaN   \n",
       "\n",
       "  is_favorite is_rated  ...  driver_accepted_time  ready_for_pickup_time  \\\n",
       "0         NaN       No  ...                   NaN                    NaN   \n",
       "1         NaN       No  ...                   NaN                    NaN   \n",
       "2         NaN       No  ...                   NaN                    NaN   \n",
       "3         NaN       No  ...                   NaN                    NaN   \n",
       "4         NaN       No  ...                   NaN                    NaN   \n",
       "\n",
       "   picked_up_time  delivered_time        delivery_date vendor_id  \\\n",
       "0             NaN             NaN  2019-07-31 05:30:00       105   \n",
       "1             NaN             NaN  2019-07-31 05:30:00       294   \n",
       "2             NaN             NaN  2019-07-31 05:30:00        83   \n",
       "3             NaN             NaN  2019-07-31 05:30:00        90   \n",
       "4             NaN             NaN  2019-07-31 05:30:00        83   \n",
       "\n",
       "            created_at LOCATION_NUMBER LOCATION_TYPE CID X LOC_NUM X VENDOR  \n",
       "0  2019-08-01 05:30:16               0           NaN      92PEE24 X 0 X 105  \n",
       "1  2019-08-01 05:31:10               0          Work      QS68UD8 X 0 X 294  \n",
       "2  2019-08-01 05:31:33               0           NaN       MB7VY5F X 0 X 83  \n",
       "3  2019-08-01 05:34:54               0          Home       KDJ951Y X 0 X 90  \n",
       "4  2019-08-01 05:35:51               0          Work       BAL0RVT X 0 X 83  \n",
       "\n",
       "[5 rows x 26 columns]"
      ]
     },
     "execution_count": 73,
     "metadata": {},
     "output_type": "execute_result"
    }
   ],
   "source": [
    "#Orders\n",
    "orders = pd.read_csv(\"./orders.csv\")\n",
    "print(\"\\n This table has \" + str(len(orders)) + \" rows.\")\n",
    "orders.head()\n",
    "#orders.isnull().sum()\n",
    "#orders.iloc[:,18:21]"
   ]
  },
  {
   "cell_type": "markdown",
   "metadata": {},
   "source": [
    "### Base Layer 4"
   ]
  },
  {
   "cell_type": "code",
   "execution_count": 58,
   "metadata": {},
   "outputs": [
    {
     "name": "stdout",
     "output_type": "stream",
     "text": [
      "\n",
      " This table has 100 rows.\n"
     ]
    },
    {
     "data": {
      "text/html": [
       "<div>\n",
       "<style scoped>\n",
       "    .dataframe tbody tr th:only-of-type {\n",
       "        vertical-align: middle;\n",
       "    }\n",
       "\n",
       "    .dataframe tbody tr th {\n",
       "        vertical-align: top;\n",
       "    }\n",
       "\n",
       "    .dataframe thead th {\n",
       "        text-align: right;\n",
       "    }\n",
       "</style>\n",
       "<table border=\"1\" class=\"dataframe\">\n",
       "  <thead>\n",
       "    <tr style=\"text-align: right;\">\n",
       "      <th></th>\n",
       "      <th>id</th>\n",
       "      <th>authentication_id</th>\n",
       "      <th>latitude</th>\n",
       "      <th>longitude</th>\n",
       "      <th>vendor_category_en</th>\n",
       "      <th>vendor_category_id</th>\n",
       "      <th>delivery_charge</th>\n",
       "      <th>serving_distance</th>\n",
       "      <th>is_open</th>\n",
       "      <th>OpeningTime</th>\n",
       "      <th>...</th>\n",
       "      <th>open_close_flags</th>\n",
       "      <th>vendor_tag</th>\n",
       "      <th>vendor_tag_name</th>\n",
       "      <th>one_click_vendor</th>\n",
       "      <th>country_id</th>\n",
       "      <th>city_id</th>\n",
       "      <th>created_at</th>\n",
       "      <th>updated_at</th>\n",
       "      <th>device_type</th>\n",
       "      <th>display_orders</th>\n",
       "    </tr>\n",
       "  </thead>\n",
       "  <tbody>\n",
       "    <tr>\n",
       "      <th>0</th>\n",
       "      <td>4</td>\n",
       "      <td>118597.0</td>\n",
       "      <td>-0.588596</td>\n",
       "      <td>0.754434</td>\n",
       "      <td>Restaurants</td>\n",
       "      <td>2.0</td>\n",
       "      <td>0.0</td>\n",
       "      <td>6.0</td>\n",
       "      <td>1.0</td>\n",
       "      <td>11:00AM-11:30PM</td>\n",
       "      <td>...</td>\n",
       "      <td>1.0</td>\n",
       "      <td>2,4,5,8,91,22,12,24,16,23</td>\n",
       "      <td>Arabic,Breakfast,Burgers,Desserts,Free Deliver...</td>\n",
       "      <td>Y</td>\n",
       "      <td>1.0</td>\n",
       "      <td>1.0</td>\n",
       "      <td>2018-01-30 14:42:04</td>\n",
       "      <td>2020-04-07 15:12:43</td>\n",
       "      <td>3</td>\n",
       "      <td>1</td>\n",
       "    </tr>\n",
       "    <tr>\n",
       "      <th>1</th>\n",
       "      <td>13</td>\n",
       "      <td>118608.0</td>\n",
       "      <td>-0.471654</td>\n",
       "      <td>0.744470</td>\n",
       "      <td>Restaurants</td>\n",
       "      <td>2.0</td>\n",
       "      <td>0.7</td>\n",
       "      <td>5.0</td>\n",
       "      <td>1.0</td>\n",
       "      <td>08:30AM-10:30PM</td>\n",
       "      <td>...</td>\n",
       "      <td>1.0</td>\n",
       "      <td>4,41,51,34,27,15,24,16,28</td>\n",
       "      <td>Breakfast,Cakes,Crepes,Italian,Pasta,Pizzas,Sa...</td>\n",
       "      <td>Y</td>\n",
       "      <td>1.0</td>\n",
       "      <td>1.0</td>\n",
       "      <td>2018-05-03 12:32:06</td>\n",
       "      <td>2020-04-05 20:46:03</td>\n",
       "      <td>3</td>\n",
       "      <td>1</td>\n",
       "    </tr>\n",
       "    <tr>\n",
       "      <th>2</th>\n",
       "      <td>20</td>\n",
       "      <td>118616.0</td>\n",
       "      <td>-0.407527</td>\n",
       "      <td>0.643681</td>\n",
       "      <td>Restaurants</td>\n",
       "      <td>2.0</td>\n",
       "      <td>0.0</td>\n",
       "      <td>8.0</td>\n",
       "      <td>1.0</td>\n",
       "      <td>08:00AM-10:45PM</td>\n",
       "      <td>...</td>\n",
       "      <td>1.0</td>\n",
       "      <td>4,8,91,10</td>\n",
       "      <td>Breakfast,Desserts,Free Delivery,Indian</td>\n",
       "      <td>Y</td>\n",
       "      <td>1.0</td>\n",
       "      <td>1.0</td>\n",
       "      <td>2018-05-04 22:28:22</td>\n",
       "      <td>2020-04-07 16:35:55</td>\n",
       "      <td>3</td>\n",
       "      <td>1</td>\n",
       "    </tr>\n",
       "    <tr>\n",
       "      <th>3</th>\n",
       "      <td>23</td>\n",
       "      <td>118619.0</td>\n",
       "      <td>-0.585385</td>\n",
       "      <td>0.753811</td>\n",
       "      <td>Restaurants</td>\n",
       "      <td>2.0</td>\n",
       "      <td>0.0</td>\n",
       "      <td>5.0</td>\n",
       "      <td>1.0</td>\n",
       "      <td>10:59AM-10:30PM</td>\n",
       "      <td>...</td>\n",
       "      <td>1.0</td>\n",
       "      <td>5,8,30,24</td>\n",
       "      <td>Burgers,Desserts,Fries,Salads</td>\n",
       "      <td>Y</td>\n",
       "      <td>1.0</td>\n",
       "      <td>1.0</td>\n",
       "      <td>2018-05-06 19:20:48</td>\n",
       "      <td>2020-04-02 00:56:17</td>\n",
       "      <td>3</td>\n",
       "      <td>1</td>\n",
       "    </tr>\n",
       "    <tr>\n",
       "      <th>4</th>\n",
       "      <td>28</td>\n",
       "      <td>118624.0</td>\n",
       "      <td>0.480602</td>\n",
       "      <td>0.552850</td>\n",
       "      <td>Restaurants</td>\n",
       "      <td>2.0</td>\n",
       "      <td>0.7</td>\n",
       "      <td>15.0</td>\n",
       "      <td>1.0</td>\n",
       "      <td>11:00AM-11:45PM</td>\n",
       "      <td>...</td>\n",
       "      <td>1.0</td>\n",
       "      <td>5</td>\n",
       "      <td>Burgers</td>\n",
       "      <td>Y</td>\n",
       "      <td>1.0</td>\n",
       "      <td>1.0</td>\n",
       "      <td>2018-05-17 22:12:38</td>\n",
       "      <td>2020-04-05 15:57:41</td>\n",
       "      <td>3</td>\n",
       "      <td>1</td>\n",
       "    </tr>\n",
       "  </tbody>\n",
       "</table>\n",
       "<p>5 rows × 59 columns</p>\n",
       "</div>"
      ],
      "text/plain": [
       "   id  authentication_id  latitude  longitude vendor_category_en  \\\n",
       "0   4           118597.0 -0.588596   0.754434        Restaurants   \n",
       "1  13           118608.0 -0.471654   0.744470        Restaurants   \n",
       "2  20           118616.0 -0.407527   0.643681        Restaurants   \n",
       "3  23           118619.0 -0.585385   0.753811        Restaurants   \n",
       "4  28           118624.0  0.480602   0.552850        Restaurants   \n",
       "\n",
       "   vendor_category_id  delivery_charge  serving_distance  is_open  \\\n",
       "0                 2.0              0.0               6.0      1.0   \n",
       "1                 2.0              0.7               5.0      1.0   \n",
       "2                 2.0              0.0               8.0      1.0   \n",
       "3                 2.0              0.0               5.0      1.0   \n",
       "4                 2.0              0.7              15.0      1.0   \n",
       "\n",
       "       OpeningTime  ... open_close_flags                 vendor_tag  \\\n",
       "0  11:00AM-11:30PM  ...              1.0  2,4,5,8,91,22,12,24,16,23   \n",
       "1  08:30AM-10:30PM  ...              1.0  4,41,51,34,27,15,24,16,28   \n",
       "2  08:00AM-10:45PM  ...              1.0                  4,8,91,10   \n",
       "3  10:59AM-10:30PM  ...              1.0                  5,8,30,24   \n",
       "4  11:00AM-11:45PM  ...              1.0                          5   \n",
       "\n",
       "                                     vendor_tag_name one_click_vendor  \\\n",
       "0  Arabic,Breakfast,Burgers,Desserts,Free Deliver...                Y   \n",
       "1  Breakfast,Cakes,Crepes,Italian,Pasta,Pizzas,Sa...                Y   \n",
       "2            Breakfast,Desserts,Free Delivery,Indian                Y   \n",
       "3                      Burgers,Desserts,Fries,Salads                Y   \n",
       "4                                            Burgers                Y   \n",
       "\n",
       "   country_id  city_id           created_at           updated_at device_type  \\\n",
       "0         1.0      1.0  2018-01-30 14:42:04  2020-04-07 15:12:43           3   \n",
       "1         1.0      1.0  2018-05-03 12:32:06  2020-04-05 20:46:03           3   \n",
       "2         1.0      1.0  2018-05-04 22:28:22  2020-04-07 16:35:55           3   \n",
       "3         1.0      1.0  2018-05-06 19:20:48  2020-04-02 00:56:17           3   \n",
       "4         1.0      1.0  2018-05-17 22:12:38  2020-04-05 15:57:41           3   \n",
       "\n",
       "   display_orders  \n",
       "0               1  \n",
       "1               1  \n",
       "2               1  \n",
       "3               1  \n",
       "4               1  \n",
       "\n",
       "[5 rows x 59 columns]"
      ]
     },
     "execution_count": 58,
     "metadata": {},
     "output_type": "execute_result"
    }
   ],
   "source": [
    "#Vendors\n",
    "vendors = pd.read_csv(\"./vendors.csv\")\n",
    "print(\"\\n This table has \" + str(len(vendors)) + \" rows.\")\n",
    "vendors.head()\n",
    "#vendors.isnull().sum()"
   ]
  },
  {
   "cell_type": "markdown",
   "metadata": {},
   "source": [
    "## Pre-process tables where need be"
   ]
  },
  {
   "cell_type": "markdown",
   "metadata": {},
   "source": [
    "### Deal with null values"
   ]
  },
  {
   "cell_type": "code",
   "execution_count": null,
   "metadata": {},
   "outputs": [],
   "source": [
    "#Training Locations\n"
   ]
  },
  {
   "cell_type": "code",
   "execution_count": null,
   "metadata": {},
   "outputs": [],
   "source": [
    "#Orders table\n"
   ]
  },
  {
   "cell_type": "markdown",
   "metadata": {},
   "source": [
    "### Deal with mixed data-type fields"
   ]
  },
  {
   "cell_type": "code",
   "execution_count": null,
   "metadata": {},
   "outputs": [],
   "source": [
    "#Orders table\n"
   ]
  },
  {
   "cell_type": "markdown",
   "metadata": {},
   "source": [
    "### Scale field values where needed"
   ]
  },
  {
   "cell_type": "code",
   "execution_count": null,
   "metadata": {},
   "outputs": [],
   "source": []
  },
  {
   "cell_type": "markdown",
   "metadata": {},
   "source": [
    "### Add valuable calculated fields"
   ]
  },
  {
   "cell_type": "code",
   "execution_count": null,
   "metadata": {},
   "outputs": [],
   "source": [
    "#Add geometry field to the training locations table\n",
    "training_locations['geom']=\"\"\n",
    "row_no = 0\n",
    "for row in training_locations.iterrows():\n",
    "    training_locations.loc[row_no, 'geom'] = ['POINT(' + str(row[1]['longitude']) + ' ' + str(row[1]['latitude']) + ')']\n",
    "    row_no += 1\n",
    "training_locations['geom'] = training_locations['geom'].apply(wkt.loads)\n",
    "training_locations_gdf = gpd.GeoDataFrame(training_locations, geometry='geom', crs='epsg:4326')"
   ]
  },
  {
   "cell_type": "code",
   "execution_count": null,
   "metadata": {},
   "outputs": [],
   "source": [
    "training_locations_gdf.head"
   ]
  },
  {
   "cell_type": "markdown",
   "metadata": {
    "colab_type": "text",
    "id": "IFVqP4NhCaFK"
   },
   "source": [
    "## Exploring Relationships using plots"
   ]
  },
  {
   "cell_type": "markdown",
   "metadata": {},
   "source": [
    "### Exploration 1"
   ]
  },
  {
   "cell_type": "code",
   "execution_count": null,
   "metadata": {
    "colab": {
     "base_uri": "https://localhost:8080/",
     "height": 442
    },
    "colab_type": "code",
    "id": "A4pNfzNhCKlc",
    "outputId": "06f57e4d-db5f-4df3-80ee-c79d6d0d5e9e"
   },
   "outputs": [],
   "source": [
    "#Spatial Relations\n",
    "\n",
    "ax = training_locations_gdf.plot(edgecolor = 'grey', facecolor = 'none', figsize = (18, 12), legend=True)\n",
    "#roads.plot(ax=ax, color = 'purple')\n",
    "#ax.set(xlim=(15, 35), ylim=(-37.5, -20))\n",
    "ax.set_axis_off()\n",
    "plt.title(label = 'Training Locations', fontweight = 'bold')\n",
    "plt.tight_layout()"
   ]
  },
  {
   "cell_type": "markdown",
   "metadata": {},
   "source": [
    "### Exploration 2"
   ]
  },
  {
   "cell_type": "code",
   "execution_count": null,
   "metadata": {
    "colab_type": "text",
    "id": "nsxVbZ6rDoZu"
   },
   "outputs": [],
   "source": [
    "# Linear Relations\n",
    "\n"
   ]
  },
  {
   "cell_type": "markdown",
   "metadata": {
    "colab_type": "text",
    "id": "XsEWyt7_KGW0"
   },
   "source": [
    "## Prediction Modelling"
   ]
  },
  {
   "cell_type": "code",
   "execution_count": null,
   "metadata": {
    "colab": {},
    "colab_type": "code",
    "id": "baggxvxMLmC_"
   },
   "outputs": [],
   "source": []
  }
 ],
 "metadata": {
  "colab": {
   "collapsed_sections": [],
   "name": "Game Count Starter Notebook.ipynb",
   "provenance": []
  },
  "kernelspec": {
   "display_name": "Python 3",
   "language": "python",
   "name": "python3"
  },
  "language_info": {
   "codemirror_mode": {
    "name": "ipython",
    "version": 3
   },
   "file_extension": ".py",
   "mimetype": "text/x-python",
   "name": "python",
   "nbconvert_exporter": "python",
   "pygments_lexer": "ipython3",
   "version": "3.7.6"
  }
 },
 "nbformat": 4,
 "nbformat_minor": 1
}
