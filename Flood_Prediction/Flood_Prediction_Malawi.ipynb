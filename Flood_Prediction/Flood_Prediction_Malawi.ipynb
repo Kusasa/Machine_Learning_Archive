{
 "cells": [
  {
   "cell_type": "markdown",
   "metadata": {},
   "source": [
    "# Predicting Floods in Malawi"
   ]
  },
  {
   "cell_type": "markdown",
   "metadata": {},
   "source": [
    "\"\"\" -----------------------------------------------------------------------------\n",
    "Tool Name:          Flood Prediction in Malawi\n",
    "Version:            1.0\n",
    "Description:        Tool used to predict the occurence and distribution of flood\n",
    "                    occurence in Malawi.\n",
    "Author:             Kusasalethu Sithole\n",
    "Date:               2020-01-23\n",
    "Last Revision:      2020-01-23\n",
    "------------------------------------------------------------------------------ \"\"\""
   ]
  },
  {
   "cell_type": "code",
   "execution_count": null,
   "metadata": {},
   "outputs": [],
   "source": [
    "# Importing the libraries\n",
    "import pandas as pd"
   ]
  },
  {
   "cell_type": "code",
   "execution_count": null,
   "metadata": {},
   "outputs": [],
   "source": [
    "# Importing the dataset\n",
    "dS = pd.read_csv('./data/Train.csv')\n",
    "nullCells = dS.isna()   #Test data for nulls\n",
    "training_columns = []\n",
    "for index in range(5,21):\n",
    "    training_columns.extend([index])\n",
    "training_columns = [3] + training_columns + [38]\n",
    "X = dS.iloc[:, training_columns].values\n",
    "Y = dS.iloc[:, 2].values"
   ]
  },
  {
   "cell_type": "code",
   "execution_count": null,
   "metadata": {},
   "outputs": [],
   "source": [
    "# Feature Scaling\n",
    "from sklearn.preprocessing import StandardScaler\n",
    "sc = StandardScaler()\n",
    "X = sc.fit_transform(X)"
   ]
  },
  {
   "cell_type": "code",
   "execution_count": null,
   "metadata": {},
   "outputs": [],
   "source": [
    "# Fitting different algorithns to the Training set\n",
    "# And applying k-Fold Cross Validation to determine most accurate regressor\n",
    "from sklearn.linear_model import LinearRegression\n",
    "from sklearn.svm import SVR\n",
    "from sklearn.tree import DecisionTreeRegressor\n",
    "from sklearn.ensemble import RandomForestRegressor\n",
    "from sklearn.model_selection import cross_val_score\n",
    "\n",
    "algorithms = {'mlr' : LinearRegression(),\n",
    "              'svr' : SVR(kernel = 'rbf'),\n",
    "              'dtr' : DecisionTreeRegressor(random_state = 0),\n",
    "              'rfr' : RandomForestRegressor(n_estimators = 100, random_state = 0)}\n",
    "\n",
    "means = {'mlr' : '',\n",
    "         'svr' : '',\n",
    "         'dtr' : '',\n",
    "         'rfr' : ''}\n",
    "squared_means = {'mlr' : '',\n",
    "                 'svr' : '',\n",
    "                 'dtr' : '',\n",
    "                 'rfr' : ''}\n",
    "\n",
    "for algorithm in algorithms:\n",
    "    regressor = algorithms[algorithm]\n",
    "    regressor.fit(X, Y)\n",
    "    accuracies = cross_val_score(estimator = regressor, X = X, y = Y, cv = 10)\n",
    "    means[algorithm] = accuracies.mean()\n",
    "    squared_means[algorithm] = (accuracies.mean())**2\n",
    "\n",
    "best_regressor = min(means, key=squared_means.get)\n",
    "best_regressor_value = means[min(means, key=squared_means.get)]\n",
    "print('The Most Accurate regressor: ' + best_regressor + ' \\n With RMSEcv of: ' + str(best_regressor_value))"
   ]
  },
  {
   "cell_type": "code",
   "execution_count": null,
   "metadata": {},
   "outputs": [],
   "source": [
    "#Using the most accurate predictor to make prediction\n",
    "regressor = algorithms[best_regressor]\n",
    "pred_columns = []\n",
    "for index in range(21,38):\n",
    "    pred_columns.extend([index])\n",
    "pred_columns = [3] + pred_columns\n",
    "pred_X = dS.iloc[:, pred_columns].values\n",
    "pred_X = sc.transform(pred_X) \n",
    "pred_Y = regressor.predict(pred_X)"
   ]
  },
  {
   "cell_type": "code",
   "execution_count": null,
   "metadata": {},
   "outputs": [],
   "source": [
    "# Export pred_Y and grid ID\n",
    "Square_ID = dS.iloc[:, 39].values\n",
    "Square_ID = pd.DataFrame(data=Square_ID, columns=['Square_ID'])\n",
    "pred_Y = pd.DataFrame(data=pred_Y, columns=['target_2019'])\n",
    "pred_csv = pd.concat([Square_ID, pred_Y], axis=1, sort=False)\n",
    "pred_csv.to_csv('./submission.csv')"
   ]
  }
 ],
 "metadata": {
  "kernelspec": {
   "display_name": "Python 3",
   "language": "python",
   "name": "python3"
  },
  "language_info": {
   "codemirror_mode": {
    "name": "ipython",
    "version": 3
   },
   "file_extension": ".py",
   "mimetype": "text/x-python",
   "name": "python",
   "nbconvert_exporter": "python",
   "pygments_lexer": "ipython3",
   "version": "3.6.5"
  }
 },
 "nbformat": 4,
 "nbformat_minor": 2
}
